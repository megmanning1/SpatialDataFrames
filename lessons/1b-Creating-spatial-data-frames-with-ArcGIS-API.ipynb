{
 "cells": [
  {
   "cell_type": "markdown",
   "id": "c35024c5",
   "metadata": {},
   "source": [
    "# Spatial Dataframes 1b: Creating them using the ArcGIS API for Python\n",
    "ENV 859 - Fall 2024 \n",
    "© John Fay, Duke University"
   ]
  },
  {
   "cell_type": "markdown",
   "id": "e23c27f0",
   "metadata": {},
   "source": [
    "~~Note: This notebook should be run using the default Conda environment included with ArcGIS Pro~~"
   ]
  },
  {
   "cell_type": "markdown",
   "id": "3f85c13b",
   "metadata": {},
   "source": [
    "### The ArcGIS Python API vs GeoPandas\n",
    "In ***Spatial Dataframes 1a*** we focused on reading data in to spatial dataframes using the **GeoPandas** package. Here we exlore an alternative: the **ArcGIS API for Python**. Why are there two packages? What's the difference? \n",
    "\n",
    "Both packages are built on-top of Pandas dataframes and include all the functionality of the Pandas package in dealing with spatial dataframes as standard dataframes. Both introduce geometries as a new data type, and by attaching these geometries to dataframes, enable various types of spatial analyses with our dataframes. \n",
    "\n",
    "The key difference seems to be from where they originated and how they evolved. GeoPandas is built off of the Shapely library for dealing with geometric objects and the Fiona library for reading and writing different recognized spatial data formats. And deeper down, Geopandas uses the open source GDAL (geospatial data abstraction library) as the computation engine that drives spatial analyses. \n",
    "\n",
    "The ArcGIS API for Python, in contrast, originated as a cloud based version of ESRI's ArcPy package. ESRI has long been developing cyberinfrastructure for web-based access to and processing of spatial data, and they have developed a host of Java based instructions for doing this. Recognizing the popularity of Python, however, ESRI has more recently developed the ArcGIS API for Python as an alternative to working with on-line spatial data. And included in this Python based offering is ESRI's own version of the spatial dataframe, what they call the \"***spatially enabled dataframe***\". \n",
    "\n",
    "The bottom line is that these two Python objects - GeoPandas' geodataframe and ESRI's spatially enabled dataframe - are quite similar, but have some key differences. They also evolve at different paces. Which one should you use? That depends on what you are doing, as each as its own advantages and limitations. The best thing to do is find a level of comfort with each and see how they compare across different tasks..."
   ]
  },
  {
   "cell_type": "markdown",
   "id": "36e97bd8",
   "metadata": {},
   "source": [
    "## The Lesson  - Constructing Spatial Dataframes with the ArcGIS API\n",
    "Similar to our last lesson using GeoPandas, we'll explore the techniques for importing data in various formats into spatial dataframes. We'll use the same datasets as that lesson so you can easily compare and contrast the methods.\n",
    "\n",
    "The source formats we examine include:\n",
    "1. [A delimited text file (e.g. CSV) containing coordinate columns and a know coordinate reference system](#1.1---Creating-spatial-dataframes-from-CSV-files-using-GeoPandas)\n",
    "2. [An existing feature class in the form of a shapefile or within a geodatabase](#1.2:-Creating-spatial-dataframes-from-existing-feature-classes)\n",
    "3. [Other formats: GeoJSON files, KML, and [kind of] GeoDatabases](#1.3---Creating-spatial-dataframes-from-other-file-formats)"
   ]
  },
  {
   "cell_type": "markdown",
   "id": "24d15043",
   "metadata": {},
   "source": [
    "### 1.1 - Creating spatial dataframes from CSV files using the ArcGIS Python API\n",
    "We revisit the electric vehicle charging locations in North Carolina obtained from the Alternative Fuels Data Center ([link](https://afdc.energy.gov/data_download)). \n",
    "\n",
    "The process of importing a CSV file into a \"spatially enabled dataframe\" is done via the ArcGIS API's [***GeoAccessor***](https://developers.arcgis.com/python/api-reference/arcgis.features.toc.html#geoaccessor) object, which has a function called `from_xy()` that converts a pandas dataframe to a spatial dataframe. This differes from the GeoPandas workflow in that we don't have to create a GeoSeries object; we just specify the X and Y coordinate columns."
   ]
  },
  {
   "cell_type": "markdown",
   "id": "3438d9ec",
   "metadata": {},
   "source": [
    "#### Step 1. Import the GeoAccessor object and read the CSV file directly\n",
    "We could simply import the `arcgis` package in its entirety, but it is a rather large package and often we import the bits we need. In this case, we just want the GeoAccessor object, which is part of the `features` submodule of the `arcgis` package.\n",
    "\n",
    "We also import the Pandas package, used to read the CSV data into a standard dataframe. Then, we invoke the GeoAccessor's `read_xy()` function to \"upgrade\" the dataframe into a spatial dataframe. "
   ]
  },
  {
   "cell_type": "code",
   "execution_count": 16,
   "id": "ee7e734b",
   "metadata": {},
   "outputs": [],
   "source": [
    "#Import pandas and the arcgis GeoAccessor object\n",
    "import pandas as pd\n",
    "from arcgis import GeoAccessor"
   ]
  },
  {
   "cell_type": "code",
   "execution_count": 2,
   "id": "bee9ae21",
   "metadata": {},
   "outputs": [],
   "source": [
    "#Read the data into a Pandas dataframe\n",
    "df = pd.read_csv('../data/NC_Charging_Stations.csv')"
   ]
  },
  {
   "cell_type": "code",
   "execution_count": 3,
   "id": "27899262",
   "metadata": {},
   "outputs": [],
   "source": [
    "#Review the read_xy() function's syntax\n",
    "GeoAccessor.from_xy?"
   ]
  },
  {
   "cell_type": "markdown",
   "id": "2b526834",
   "metadata": {},
   "source": [
    "##### ►Spatial references with the GeoAccessor object\n",
    "Spatial references (aka coordinate reference systems in GeoPandas) are also handled via WKIDs. "
   ]
  },
  {
   "cell_type": "code",
   "execution_count": 4,
   "id": "9851a049",
   "metadata": {},
   "outputs": [],
   "source": [
    "#Read the EV Charging station data into a Pandas dataframe\n",
    "sdf = GeoAccessor.from_xy(\n",
    "    df,\n",
    "    x_column=\"Longitude\",\n",
    "    y_column=\"Latitude\",\n",
    "    sr = 4326)"
   ]
  },
  {
   "cell_type": "markdown",
   "id": "26c21d2e",
   "metadata": {},
   "source": [
    "#### 1.2 Explore our new object"
   ]
  },
  {
   "cell_type": "code",
   "execution_count": 5,
   "id": "5ed7132d",
   "metadata": {},
   "outputs": [
    {
     "data": {
      "text/html": [
       "<div>\n",
       "<style scoped>\n",
       "    .dataframe tbody tr th:only-of-type {\n",
       "        vertical-align: middle;\n",
       "    }\n",
       "\n",
       "    .dataframe tbody tr th {\n",
       "        vertical-align: top;\n",
       "    }\n",
       "\n",
       "    .dataframe thead th {\n",
       "        text-align: right;\n",
       "    }\n",
       "</style>\n",
       "<table border=\"1\" class=\"dataframe\">\n",
       "  <thead>\n",
       "    <tr style=\"text-align: right;\">\n",
       "      <th></th>\n",
       "      <th>ID</th>\n",
       "      <th>Fuel Type Code</th>\n",
       "      <th>Station Name</th>\n",
       "      <th>City</th>\n",
       "      <th>State</th>\n",
       "      <th>ZIP</th>\n",
       "      <th>Status Code</th>\n",
       "      <th>Latitude</th>\n",
       "      <th>Longitude</th>\n",
       "      <th>Facility Type</th>\n",
       "      <th>SHAPE</th>\n",
       "    </tr>\n",
       "  </thead>\n",
       "  <tbody>\n",
       "    <tr>\n",
       "      <th>0</th>\n",
       "      <td>39016</td>\n",
       "      <td>ELEC</td>\n",
       "      <td>City of Raleigh - Municipal Building</td>\n",
       "      <td>Raleigh</td>\n",
       "      <td>NC</td>\n",
       "      <td>27601</td>\n",
       "      <td>E</td>\n",
       "      <td>35.778416</td>\n",
       "      <td>-78.643470</td>\n",
       "      <td>STREET_PARKING</td>\n",
       "      <td>{\"spatialReference\": {\"wkid\": 4326}, \"x\": -78....</td>\n",
       "    </tr>\n",
       "    <tr>\n",
       "      <th>1</th>\n",
       "      <td>39017</td>\n",
       "      <td>ELEC</td>\n",
       "      <td>City of Raleigh - Downtown</td>\n",
       "      <td>Raleigh</td>\n",
       "      <td>NC</td>\n",
       "      <td>27601</td>\n",
       "      <td>E</td>\n",
       "      <td>35.774350</td>\n",
       "      <td>-78.642287</td>\n",
       "      <td>STREET_PARKING</td>\n",
       "      <td>{\"spatialReference\": {\"wkid\": 4326}, \"x\": -78....</td>\n",
       "    </tr>\n",
       "    <tr>\n",
       "      <th>2</th>\n",
       "      <td>40066</td>\n",
       "      <td>ELEC</td>\n",
       "      <td>Modern Nissan - Concord</td>\n",
       "      <td>Concord</td>\n",
       "      <td>NC</td>\n",
       "      <td>28027</td>\n",
       "      <td>E</td>\n",
       "      <td>35.392063</td>\n",
       "      <td>-80.622777</td>\n",
       "      <td>CAR_DEALER</td>\n",
       "      <td>{\"spatialReference\": {\"wkid\": 4326}, \"x\": -80....</td>\n",
       "    </tr>\n",
       "    <tr>\n",
       "      <th>3</th>\n",
       "      <td>40067</td>\n",
       "      <td>ELEC</td>\n",
       "      <td>Fred Anderson Nissan</td>\n",
       "      <td>Fayetteville</td>\n",
       "      <td>NC</td>\n",
       "      <td>28304</td>\n",
       "      <td>E</td>\n",
       "      <td>35.042419</td>\n",
       "      <td>-78.956747</td>\n",
       "      <td>CAR_DEALER</td>\n",
       "      <td>{\"spatialReference\": {\"wkid\": 4326}, \"x\": -78....</td>\n",
       "    </tr>\n",
       "    <tr>\n",
       "      <th>4</th>\n",
       "      <td>40068</td>\n",
       "      <td>ELEC</td>\n",
       "      <td>Vann Yorks High Point Nissan</td>\n",
       "      <td>High Point</td>\n",
       "      <td>NC</td>\n",
       "      <td>27260</td>\n",
       "      <td>E</td>\n",
       "      <td>35.937981</td>\n",
       "      <td>-79.996012</td>\n",
       "      <td>CAR_DEALER</td>\n",
       "      <td>{\"spatialReference\": {\"wkid\": 4326}, \"x\": -79....</td>\n",
       "    </tr>\n",
       "  </tbody>\n",
       "</table>\n",
       "</div>"
      ],
      "text/plain": [
       "      ID Fuel Type Code                          Station Name          City  \\\n",
       "0  39016           ELEC  City of Raleigh - Municipal Building       Raleigh   \n",
       "1  39017           ELEC            City of Raleigh - Downtown       Raleigh   \n",
       "2  40066           ELEC               Modern Nissan - Concord       Concord   \n",
       "3  40067           ELEC                  Fred Anderson Nissan  Fayetteville   \n",
       "4  40068           ELEC          Vann Yorks High Point Nissan    High Point   \n",
       "\n",
       "  State    ZIP Status Code   Latitude  Longitude   Facility Type  \\\n",
       "0    NC  27601           E  35.778416 -78.643470  STREET_PARKING   \n",
       "1    NC  27601           E  35.774350 -78.642287  STREET_PARKING   \n",
       "2    NC  28027           E  35.392063 -80.622777      CAR_DEALER   \n",
       "3    NC  28304           E  35.042419 -78.956747      CAR_DEALER   \n",
       "4    NC  27260           E  35.937981 -79.996012      CAR_DEALER   \n",
       "\n",
       "                                               SHAPE  \n",
       "0  {\"spatialReference\": {\"wkid\": 4326}, \"x\": -78....  \n",
       "1  {\"spatialReference\": {\"wkid\": 4326}, \"x\": -78....  \n",
       "2  {\"spatialReference\": {\"wkid\": 4326}, \"x\": -80....  \n",
       "3  {\"spatialReference\": {\"wkid\": 4326}, \"x\": -78....  \n",
       "4  {\"spatialReference\": {\"wkid\": 4326}, \"x\": -79....  "
      ]
     },
     "execution_count": 5,
     "metadata": {},
     "output_type": "execute_result"
    }
   ],
   "source": [
    "#View a few records\n",
    "sdf.head()"
   ]
  },
  {
   "cell_type": "code",
   "execution_count": 6,
   "id": "de893aed",
   "metadata": {},
   "outputs": [
    {
     "data": {
      "text/plain": [
       "pandas.core.frame.DataFrame"
      ]
     },
     "execution_count": 6,
     "metadata": {},
     "output_type": "execute_result"
    }
   ],
   "source": [
    "#Examine the data type of the object we just created\n",
    "type(sdf)"
   ]
  },
  {
   "cell_type": "markdown",
   "id": "8dbd19fd",
   "metadata": {},
   "source": [
    "*►Hmmm... that's odd. It's still a Pandas dataframe --- or so it appears.* \n",
    "\n",
    "The ArcGIS API handles dataframes a bit differently. The object we created *is* recognized as a Pandas dataframe, but we can now append `.spatial` to the end of it to access its spatial capabilities..."
   ]
  },
  {
   "cell_type": "code",
   "execution_count": 7,
   "id": "ce02fd62",
   "metadata": {},
   "outputs": [
    {
     "data": {
      "text/plain": [
       "arcgis.features.geo._accessor.GeoAccessor"
      ]
     },
     "execution_count": 7,
     "metadata": {},
     "output_type": "execute_result"
    }
   ],
   "source": [
    "#Examine the \"spatially enabled\" dataframe\n",
    "type(sdf.spatial)"
   ]
  },
  {
   "cell_type": "code",
   "execution_count": 10,
   "id": "76c53513",
   "metadata": {},
   "outputs": [
    {
     "data": {
      "text/plain": [
       "{'wkid': 4326}"
      ]
     },
     "execution_count": 10,
     "metadata": {},
     "output_type": "execute_result"
    }
   ],
   "source": [
    "#Examine a few properties of this object\n",
    "sdf.spatial.sr"
   ]
  },
  {
   "cell_type": "code",
   "execution_count": 12,
   "id": "48fb57fc",
   "metadata": {},
   "outputs": [
    {
     "data": {
      "application/vnd.jupyter.widget-view+json": {
       "model_id": "9e36fa0fbf93482da4065ff98a6aefc8",
       "version_major": 2,
       "version_minor": 0
      },
      "text/plain": [
       "MapView(layout=Layout(height='400px', width='100%'))"
      ]
     },
     "metadata": {},
     "output_type": "display_data"
    },
    {
     "data": {
      "text/html": [
       "<div class=\"map-static-img-preview-d663adc2-9690-4d14-a3fa-75c62c292e91\"><img src=\"\"></img></div>"
      ],
      "text/plain": [
       "<IPython.core.display.HTML object>"
      ]
     },
     "metadata": {},
     "output_type": "display_data"
    },
    {
     "data": {
      "text/html": [
       "<div class=\"map-html-embed-preview-d663adc2-9690-4d14-a3fa-75c62c292e91\"></div>"
      ],
      "text/plain": [
       "<IPython.core.display.HTML object>"
      ]
     },
     "metadata": {},
     "output_type": "display_data"
    }
   ],
   "source": [
    "#Plot the data\n",
    "sdf.spatial.plot()"
   ]
  },
  {
   "cell_type": "markdown",
   "id": "034fc2e6",
   "metadata": {},
   "source": [
    "### 1.2: Creating spatial dataframes from existing feature classes\n",
    "Here we look at the process of getting existing feature classes, e.g. Shapefiles, into spatial dataframes. Now we'll do this using the ArcGIS API for Python. \n",
    "\n",
    "The dataset we'll use represents major river basins of North Carolina (source: https://data-ncdenr.opendata.arcgis.com/datasets/ncdenr::major-river-basins), a copy of which has been downloaded into the data folder as `Major_Basins.shp`. "
   ]
  },
  {
   "cell_type": "markdown",
   "id": "9e317bbe",
   "metadata": {},
   "source": [
    "#### Step 1. Importing shapefiles using `from_featureclass()`\n",
    "Importing feature classes using GeoPandas is easy with the `from_featureclass()` command. "
   ]
  },
  {
   "cell_type": "code",
   "execution_count": 13,
   "id": "39081f02",
   "metadata": {},
   "outputs": [],
   "source": [
    "#Explore the GeoAccessor's from_featureclass() command\n",
    "GeoAccessor.from_featureclass?"
   ]
  },
  {
   "cell_type": "code",
   "execution_count": 17,
   "id": "fc584c9d",
   "metadata": {},
   "outputs": [
    {
     "name": "stderr",
     "output_type": "stream",
     "text": [
      "C:\\Users\\mgm79\\AppData\\Local\\ESRI\\conda\\envs\\gis\\Lib\\site-packages\\pandas\\core\\dtypes\\cast.py:1066: RuntimeWarning: invalid value encountered in cast\n",
      "  if (arr.astype(int) == arr).all():\n",
      "C:\\Users\\mgm79\\AppData\\Local\\ESRI\\conda\\envs\\gis\\Lib\\site-packages\\pandas\\core\\dtypes\\cast.py:1091: RuntimeWarning: invalid value encountered in cast\n",
      "  if (arr.astype(int) == arr).all():\n"
     ]
    }
   ],
   "source": [
    "#Read the shapefile into a GeoPandas geodataframe\n",
    "sdf_shp = GeoAccessor.from_featureclass('../data/Major_Basins.shp')"
   ]
  },
  {
   "cell_type": "code",
   "execution_count": 18,
   "id": "8c9e8b5a",
   "metadata": {},
   "outputs": [
    {
     "data": {
      "text/html": [
       "<div>\n",
       "<style scoped>\n",
       "    .dataframe tbody tr th:only-of-type {\n",
       "        vertical-align: middle;\n",
       "    }\n",
       "\n",
       "    .dataframe tbody tr th {\n",
       "        vertical-align: top;\n",
       "    }\n",
       "\n",
       "    .dataframe thead th {\n",
       "        text-align: right;\n",
       "    }\n",
       "</style>\n",
       "<table border=\"1\" class=\"dataframe\">\n",
       "  <thead>\n",
       "    <tr style=\"text-align: right;\">\n",
       "      <th></th>\n",
       "      <th>FID</th>\n",
       "      <th>FID_1</th>\n",
       "      <th>Basin</th>\n",
       "      <th>Sq_Miles</th>\n",
       "      <th>Acres</th>\n",
       "      <th>Name</th>\n",
       "      <th>PlanLink</th>\n",
       "      <th>SHAPE_Leng</th>\n",
       "      <th>SHAPE_Area</th>\n",
       "      <th>SHAPE</th>\n",
       "    </tr>\n",
       "  </thead>\n",
       "  <tbody>\n",
       "    <tr>\n",
       "      <th>0</th>\n",
       "      <td>0</td>\n",
       "      <td>1</td>\n",
       "      <td>BRD</td>\n",
       "      <td>1513.894812</td>\n",
       "      <td>968892.679825</td>\n",
       "      <td>Broad</td>\n",
       "      <td>https://deq.nc.gov/about/divisions/water-resou...</td>\n",
       "      <td>558125.849794</td>\n",
       "      <td>-5910818705.639643</td>\n",
       "      <td>{\"rings\": [[[-9213866.2715, 4173023.750500001]...</td>\n",
       "    </tr>\n",
       "    <tr>\n",
       "      <th>1</th>\n",
       "      <td>1</td>\n",
       "      <td>2</td>\n",
       "      <td>CAT</td>\n",
       "      <td>3285.405145</td>\n",
       "      <td>2102659.29272</td>\n",
       "      <td>Catawba</td>\n",
       "      <td>https://deq.nc.gov/about/divisions/water-resou...</td>\n",
       "      <td>856739.97408</td>\n",
       "      <td>-12897941599.943258</td>\n",
       "      <td>{\"rings\": [[[-9094141.1919, 4320798.406099997]...</td>\n",
       "    </tr>\n",
       "    <tr>\n",
       "      <th>2</th>\n",
       "      <td>2</td>\n",
       "      <td>3</td>\n",
       "      <td>CHO</td>\n",
       "      <td>1298.283191</td>\n",
       "      <td>830901.242319</td>\n",
       "      <td>Chowan</td>\n",
       "      <td>https://deq.nc.gov/about/divisions/water-resou...</td>\n",
       "      <td>466571.46343</td>\n",
       "      <td>-5193826643.161087</td>\n",
       "      <td>{\"rings\": [[[-8531329.2013, 4376184.236199997]...</td>\n",
       "    </tr>\n",
       "    <tr>\n",
       "      <th>3</th>\n",
       "      <td>3</td>\n",
       "      <td>4</td>\n",
       "      <td>CPF</td>\n",
       "      <td>9163.594976</td>\n",
       "      <td>5864700.78462</td>\n",
       "      <td>Cape Fear</td>\n",
       "      <td>https://deq.nc.gov/about/divisions/water-resou...</td>\n",
       "      <td>1392876.518496</td>\n",
       "      <td>-35644020839.549492</td>\n",
       "      <td>{\"rings\": [[[-8873544.7811, 4349237.935599998]...</td>\n",
       "    </tr>\n",
       "    <tr>\n",
       "      <th>4</th>\n",
       "      <td>4</td>\n",
       "      <td>5</td>\n",
       "      <td>FBR</td>\n",
       "      <td>2828.806116</td>\n",
       "      <td>1810435.91456</td>\n",
       "      <td>French Broad</td>\n",
       "      <td>https://deq.nc.gov/about/divisions/water-resou...</td>\n",
       "      <td>721696.746366</td>\n",
       "      <td>-11123076192.564955</td>\n",
       "      <td>{\"rings\": [[[-9151379.6031, 4322288.984700002]...</td>\n",
       "    </tr>\n",
       "  </tbody>\n",
       "</table>\n",
       "</div>"
      ],
      "text/plain": [
       "   FID  FID_1 Basin     Sq_Miles          Acres          Name  \\\n",
       "0    0      1   BRD  1513.894812  968892.679825         Broad   \n",
       "1    1      2   CAT  3285.405145  2102659.29272       Catawba   \n",
       "2    2      3   CHO  1298.283191  830901.242319        Chowan   \n",
       "3    3      4   CPF  9163.594976  5864700.78462     Cape Fear   \n",
       "4    4      5   FBR  2828.806116  1810435.91456  French Broad   \n",
       "\n",
       "                                            PlanLink      SHAPE_Leng  \\\n",
       "0  https://deq.nc.gov/about/divisions/water-resou...   558125.849794   \n",
       "1  https://deq.nc.gov/about/divisions/water-resou...    856739.97408   \n",
       "2  https://deq.nc.gov/about/divisions/water-resou...    466571.46343   \n",
       "3  https://deq.nc.gov/about/divisions/water-resou...  1392876.518496   \n",
       "4  https://deq.nc.gov/about/divisions/water-resou...   721696.746366   \n",
       "\n",
       "           SHAPE_Area                                              SHAPE  \n",
       "0  -5910818705.639643  {\"rings\": [[[-9213866.2715, 4173023.750500001]...  \n",
       "1 -12897941599.943258  {\"rings\": [[[-9094141.1919, 4320798.406099997]...  \n",
       "2  -5193826643.161087  {\"rings\": [[[-8531329.2013, 4376184.236199997]...  \n",
       "3 -35644020839.549492  {\"rings\": [[[-8873544.7811, 4349237.935599998]...  \n",
       "4 -11123076192.564955  {\"rings\": [[[-9151379.6031, 4322288.984700002]...  "
      ]
     },
     "execution_count": 18,
     "metadata": {},
     "output_type": "execute_result"
    }
   ],
   "source": [
    "#Examine the data\n",
    "sdf_shp.head()"
   ]
  },
  {
   "cell_type": "code",
   "execution_count": 19,
   "id": "da473a68",
   "metadata": {},
   "outputs": [
    {
     "data": {
      "text/plain": [
       "{'wkid': 102100, 'latestWkid': 3857}"
      ]
     },
     "execution_count": 19,
     "metadata": {},
     "output_type": "execute_result"
    }
   ],
   "source": [
    "#What is the spatial reference of the data\n",
    "sdf_shp.spatial.sr"
   ]
  },
  {
   "cell_type": "code",
   "execution_count": 20,
   "id": "681226e3",
   "metadata": {},
   "outputs": [
    {
     "data": {
      "application/vnd.jupyter.widget-view+json": {
       "model_id": "47fc4c45a65b460b8f34f34a6b723285",
       "version_major": 2,
       "version_minor": 0
      },
      "text/plain": [
       "MapView(layout=Layout(height='400px', width='100%'))"
      ]
     },
     "metadata": {},
     "output_type": "display_data"
    },
    {
     "data": {
      "text/html": [
       "<div class=\"map-static-img-preview-5552d4f5-37e3-4853-b77f-e475254ece5b\"><img src=\"\"></img></div>"
      ],
      "text/plain": [
       "<IPython.core.display.HTML object>"
      ]
     },
     "metadata": {},
     "output_type": "display_data"
    },
    {
     "data": {
      "text/html": [
       "<div class=\"map-html-embed-preview-5552d4f5-37e3-4853-b77f-e475254ece5b\"></div>"
      ],
      "text/plain": [
       "<IPython.core.display.HTML object>"
      ]
     },
     "metadata": {},
     "output_type": "display_data"
    }
   ],
   "source": [
    "#Plot the data...\n",
    "sdf_shp.spatial.plot()"
   ]
  },
  {
   "cell_type": "markdown",
   "id": "b544c4b1",
   "metadata": {},
   "source": [
    "### 1.3 - Creating spatial dataframes from other file formats\n",
    "\n",
    "A look at the other \"`from_`\" operations associated with the GeoAccessor object reveals other datasources we can read into ArcGIS spatally enabled dataframes. GeoJSON and KML are NOT listed here (though GeoDataframe is, meaning we can potentially read in these files using GeoPandas into a geodataframe, and then convert this into a spatially enabled dataframe...)."
   ]
  },
  {
   "cell_type": "code",
   "execution_count": 22,
   "id": "ddfe27f8",
   "metadata": {},
   "outputs": [],
   "source": [
    "#Explore other import options associated with the GeoAccessor object\n",
    "GeoAccessor.from_df?"
   ]
  },
  {
   "cell_type": "markdown",
   "id": "1efad990",
   "metadata": {},
   "source": [
    "Recalling that the ArcGIS Python API was developed for cloud-based computing, however, we see that it is quite adept at working with on-line resources. For example, you may have noticed pages that look like this:  \n",
    "<https://services.nconemap.gov/secure/rest/services>  \n",
    "\n",
    "This is a listing of a number of spatial (and sometimes non-spatial) datasets served online. Click on some of the links labeled \"Feature Server\" and that will reveal feature layers associated with that service. For example:   \n",
    "https://services.nconemap.gov/secure/rest/services/NC1Map_Regional_Boundaries/FeatureServer \n",
    "Reveals two layers (state boundaries (1) and county boundaries (1)\n",
    "\n",
    "The ArcGIS API can import these as spatial dataframes fairly easily from the web address associated with these layers. This is done not with the *GeoAccessor*, but with the ***FeatureLayer*** object..."
   ]
  },
  {
   "cell_type": "code",
   "execution_count": 26,
   "id": "0b5d7d47",
   "metadata": {},
   "outputs": [],
   "source": [
    "#Import the FeatureLayer arcgis package\n",
    "from arcgis.features import FeatureLayer"
   ]
  },
  {
   "cell_type": "code",
   "execution_count": 24,
   "id": "486533d0",
   "metadata": {},
   "outputs": [],
   "source": [
    "#Set the urls where the feature layer are hosted\n",
    "state_layer_url = 'https://services.nconemap.gov/secure/rest/services/NC1Map_Regional_Boundaries/FeatureServer/0'\n",
    "county_layer_url = 'https://services.nconemap.gov/secure/rest/services/NC1Map_Regional_Boundaries/FeatureServer/1'"
   ]
  },
  {
   "cell_type": "code",
   "execution_count": 27,
   "id": "59ae3d4f",
   "metadata": {},
   "outputs": [
    {
     "data": {
      "text/plain": [
       "arcgis.features.layer.FeatureLayer"
      ]
     },
     "execution_count": 27,
     "metadata": {},
     "output_type": "execute_result"
    }
   ],
   "source": [
    "#Read the data in as a feature layer\n",
    "state_layer = FeatureLayer(state_layer_url)\n",
    "type(state_layer)"
   ]
  },
  {
   "cell_type": "code",
   "execution_count": 28,
   "id": "e1d33011",
   "metadata": {},
   "outputs": [],
   "source": [
    "#Convert to a spatial dataframe\n",
    "sdf_state = GeoAccessor.from_layer(state_layer)"
   ]
  },
  {
   "cell_type": "code",
   "execution_count": 29,
   "id": "6edefdc8",
   "metadata": {},
   "outputs": [
    {
     "data": {
      "text/html": [
       "<div>\n",
       "<style scoped>\n",
       "    .dataframe tbody tr th:only-of-type {\n",
       "        vertical-align: middle;\n",
       "    }\n",
       "\n",
       "    .dataframe tbody tr th {\n",
       "        vertical-align: top;\n",
       "    }\n",
       "\n",
       "    .dataframe thead th {\n",
       "        text-align: right;\n",
       "    }\n",
       "</style>\n",
       "<table border=\"1\" class=\"dataframe\">\n",
       "  <thead>\n",
       "    <tr style=\"text-align: right;\">\n",
       "      <th></th>\n",
       "      <th>onemap_sdeadmin_usa_states_area</th>\n",
       "      <th>Shape__Area</th>\n",
       "      <th>Shape__Length</th>\n",
       "      <th>objectid</th>\n",
       "      <th>perimeter</th>\n",
       "      <th>statesp020</th>\n",
       "      <th>state</th>\n",
       "      <th>state_fips</th>\n",
       "      <th>order_adm</th>\n",
       "      <th>month_adm</th>\n",
       "      <th>day_adm</th>\n",
       "      <th>year_adm</th>\n",
       "      <th>SHAPE</th>\n",
       "    </tr>\n",
       "  </thead>\n",
       "  <tbody>\n",
       "    <tr>\n",
       "      <th>0</th>\n",
       "      <td>267.357</td>\n",
       "      <td>1979285583586.921143</td>\n",
       "      <td>29922889.954455</td>\n",
       "      <td>1</td>\n",
       "      <td>374.768</td>\n",
       "      <td>2.0</td>\n",
       "      <td>Alaska</td>\n",
       "      <td>02</td>\n",
       "      <td>49</td>\n",
       "      <td>January</td>\n",
       "      <td>3.0</td>\n",
       "      <td>1959.0</td>\n",
       "      <td>{\"rings\": [[[-2744517.7946000025, 5879742.8082...</td>\n",
       "    </tr>\n",
       "    <tr>\n",
       "      <th>1</th>\n",
       "      <td>0.0</td>\n",
       "      <td>3382181.319962</td>\n",
       "      <td>12074.827452</td>\n",
       "      <td>2</td>\n",
       "      <td>0.224</td>\n",
       "      <td>3.0</td>\n",
       "      <td>Alaska</td>\n",
       "      <td>02</td>\n",
       "      <td>49</td>\n",
       "      <td>January</td>\n",
       "      <td>3.0</td>\n",
       "      <td>1959.0</td>\n",
       "      <td>{\"rings\": [[[-2657753.126500003, 5868445.36879...</td>\n",
       "    </tr>\n",
       "    <tr>\n",
       "      <th>2</th>\n",
       "      <td>0.0</td>\n",
       "      <td>1576285.42491</td>\n",
       "      <td>6235.419621</td>\n",
       "      <td>3</td>\n",
       "      <td>0.118</td>\n",
       "      <td>4.0</td>\n",
       "      <td>Alaska</td>\n",
       "      <td>02</td>\n",
       "      <td>49</td>\n",
       "      <td>January</td>\n",
       "      <td>3.0</td>\n",
       "      <td>1959.0</td>\n",
       "      <td>{\"rings\": [[[-2653616.897699997, 5848470.94200...</td>\n",
       "    </tr>\n",
       "    <tr>\n",
       "      <th>3</th>\n",
       "      <td>0.0</td>\n",
       "      <td>2656460.95422</td>\n",
       "      <td>15243.315954</td>\n",
       "      <td>4</td>\n",
       "      <td>0.276</td>\n",
       "      <td>5.0</td>\n",
       "      <td>Alaska</td>\n",
       "      <td>02</td>\n",
       "      <td>49</td>\n",
       "      <td>January</td>\n",
       "      <td>3.0</td>\n",
       "      <td>1959.0</td>\n",
       "      <td>{\"rings\": [[[-2650007.5568000004, 5838549.7893...</td>\n",
       "    </tr>\n",
       "    <tr>\n",
       "      <th>4</th>\n",
       "      <td>0.0</td>\n",
       "      <td>2361460.348436</td>\n",
       "      <td>9267.466238</td>\n",
       "      <td>5</td>\n",
       "      <td>0.167</td>\n",
       "      <td>6.0</td>\n",
       "      <td>Alaska</td>\n",
       "      <td>02</td>\n",
       "      <td>49</td>\n",
       "      <td>January</td>\n",
       "      <td>3.0</td>\n",
       "      <td>1959.0</td>\n",
       "      <td>{\"rings\": [[[-2644430.9363999963, 5825202.4289...</td>\n",
       "    </tr>\n",
       "  </tbody>\n",
       "</table>\n",
       "</div>"
      ],
      "text/plain": [
       "   onemap_sdeadmin_usa_states_area           Shape__Area    Shape__Length  \\\n",
       "0                          267.357  1979285583586.921143  29922889.954455   \n",
       "1                              0.0        3382181.319962     12074.827452   \n",
       "2                              0.0         1576285.42491      6235.419621   \n",
       "3                              0.0         2656460.95422     15243.315954   \n",
       "4                              0.0        2361460.348436      9267.466238   \n",
       "\n",
       "   objectid  perimeter  statesp020   state state_fips  order_adm month_adm  \\\n",
       "0         1    374.768         2.0  Alaska         02         49   January   \n",
       "1         2      0.224         3.0  Alaska         02         49   January   \n",
       "2         3      0.118         4.0  Alaska         02         49   January   \n",
       "3         4      0.276         5.0  Alaska         02         49   January   \n",
       "4         5      0.167         6.0  Alaska         02         49   January   \n",
       "\n",
       "   day_adm  year_adm                                              SHAPE  \n",
       "0      3.0    1959.0  {\"rings\": [[[-2744517.7946000025, 5879742.8082...  \n",
       "1      3.0    1959.0  {\"rings\": [[[-2657753.126500003, 5868445.36879...  \n",
       "2      3.0    1959.0  {\"rings\": [[[-2653616.897699997, 5848470.94200...  \n",
       "3      3.0    1959.0  {\"rings\": [[[-2650007.5568000004, 5838549.7893...  \n",
       "4      3.0    1959.0  {\"rings\": [[[-2644430.9363999963, 5825202.4289...  "
      ]
     },
     "execution_count": 29,
     "metadata": {},
     "output_type": "execute_result"
    }
   ],
   "source": [
    "#Explore \n",
    "sdf_state.head()"
   ]
  },
  {
   "cell_type": "code",
   "execution_count": 30,
   "id": "8d0b16bf",
   "metadata": {},
   "outputs": [
    {
     "data": {
      "text/plain": [
       "{'wkid': 32119, 'latestWkid': 32119}"
      ]
     },
     "execution_count": 30,
     "metadata": {},
     "output_type": "execute_result"
    }
   ],
   "source": [
    "#Get the spatial reference\n",
    "sdf_state.spatial.sr"
   ]
  },
  {
   "cell_type": "code",
   "execution_count": 31,
   "id": "e4328f74",
   "metadata": {},
   "outputs": [
    {
     "data": {
      "application/vnd.jupyter.widget-view+json": {
       "model_id": "2648e48cb6174cf5b70ec6de49930ced",
       "version_major": 2,
       "version_minor": 0
      },
      "text/plain": [
       "MapView(layout=Layout(height='400px', width='100%'))"
      ]
     },
     "metadata": {},
     "output_type": "display_data"
    },
    {
     "data": {
      "text/html": [
       "<div class=\"map-static-img-preview-d860e350-c14e-4cd3-a1a8-b5ff73db974a\"><img src=\"\"></img></div>"
      ],
      "text/plain": [
       "<IPython.core.display.HTML object>"
      ]
     },
     "metadata": {},
     "output_type": "display_data"
    },
    {
     "data": {
      "text/html": [
       "<div class=\"map-html-embed-preview-d860e350-c14e-4cd3-a1a8-b5ff73db974a\"></div>"
      ],
      "text/plain": [
       "<IPython.core.display.HTML object>"
      ]
     },
     "metadata": {},
     "output_type": "display_data"
    }
   ],
   "source": [
    "sdf_state.spatial.plot()"
   ]
  },
  {
   "cell_type": "code",
   "execution_count": null,
   "id": "884af57a",
   "metadata": {},
   "outputs": [],
   "source": []
  }
 ],
 "metadata": {
  "kernelspec": {
   "display_name": "Python 3 (ipykernel)",
   "language": "python",
   "name": "python3"
  },
  "language_info": {
   "codemirror_mode": {
    "name": "ipython",
    "version": 3
   },
   "file_extension": ".py",
   "mimetype": "text/x-python",
   "name": "python",
   "nbconvert_exporter": "python",
   "pygments_lexer": "ipython3",
   "version": "3.11.8"
  }
 },
 "nbformat": 4,
 "nbformat_minor": 5
}
